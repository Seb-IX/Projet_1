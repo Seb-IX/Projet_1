{
 "cells": [
  {
   "cell_type": "markdown",
   "metadata": {},
   "source": [
    "## BEFORE USE, DON'T FORGET INIT KEY WITH SCRIPT InitPassword"
   ]
  },
  {
   "cell_type": "code",
   "execution_count": 1,
   "metadata": {},
   "outputs": [],
   "source": [
    "import requests, uuid, json\n",
    "import os\n",
    "# initialize key\n",
    "key_secured = os.environ[\"COGNITIVE_SERVICE_KEY\"]\n",
    "subscription_key = key_secured\n",
    "endpoint = \"https://api.cognitive.microsofttranslator.com/\"\n",
    "# search on API detect to get language of text push on API\n",
    "path = '/detect'\n",
    "constructed_url = endpoint + path\n",
    "\n",
    "params = {\n",
    "    'api-version': '3.0'\n",
    "}\n",
    "constructed_url = endpoint + path\n",
    "\n",
    "headers = {\n",
    "    'Ocp-Apim-Subscription-Key': subscription_key,\n",
    "    'Content-type': 'application/json',\n",
    "    'X-ClientTraceId': str(uuid.uuid4())\n",
    "}\n"
   ]
  },
  {
   "cell_type": "code",
   "execution_count": 2,
   "metadata": {},
   "outputs": [],
   "source": [
    "sendRequest = [{\n",
    "    'text': 'Hello my name is Sébastien TUCCIO.' # Anglais\n",
    "},{\n",
    "    'text': 'Bonjour, je m\\'appel Sébastien TUCCIO.' # Français\n",
    "},{\n",
    "    'text': 'Ciao mi chiamo Sébastien TUCCIO' # Italien\n",
    "},{\n",
    "    'text': 'Hola, me llamo Sébastien TUCCIO.' # Espagnol\n",
    "},{\n",
    "    'text': 'Hallo, mein Name ist Sébastien TUCCIO.' # Allemand\n",
    "}]"
   ]
  },
  {
   "cell_type": "code",
   "execution_count": 3,
   "metadata": {},
   "outputs": [
    {
     "output_type": "stream",
     "name": "stdout",
     "text": [
      "[\n    {\n        \"isTranslationSupported\": true,\n        \"isTransliterationSupported\": false,\n        \"language\": \"en\",\n        \"score\": 0.67\n    },\n    {\n        \"isTranslationSupported\": true,\n        \"isTransliterationSupported\": false,\n        \"language\": \"fr\",\n        \"score\": 0.83\n    },\n    {\n        \"isTranslationSupported\": true,\n        \"isTransliterationSupported\": false,\n        \"language\": \"it\",\n        \"score\": 1.0\n    },\n    {\n        \"isTranslationSupported\": true,\n        \"isTransliterationSupported\": false,\n        \"language\": \"es\",\n        \"score\": 0.8\n    },\n    {\n        \"isTranslationSupported\": true,\n        \"isTransliterationSupported\": false,\n        \"language\": \"de\",\n        \"score\": 0.67\n    }\n]\n"
     ]
    }
   ],
   "source": [
    "request = requests.post(constructed_url, params=params, headers=headers, json=sendRequest)\n",
    "response = request.json()\n",
    "\n",
    "print(json.dumps(response, sort_keys=True, ensure_ascii=False, indent=4, separators=(',', ': ')))"
   ]
  }
 ],
 "metadata": {
  "kernelspec": {
   "display_name": "Python 3",
   "language": "python",
   "name": "python3"
  },
  "language_info": {
   "codemirror_mode": {
    "name": "ipython",
    "version": 3
   },
   "file_extension": ".py",
   "mimetype": "text/x-python",
   "name": "python",
   "nbconvert_exporter": "python",
   "pygments_lexer": "ipython3",
   "version": "3.8.5-final"
  }
 },
 "nbformat": 4,
 "nbformat_minor": 4
}