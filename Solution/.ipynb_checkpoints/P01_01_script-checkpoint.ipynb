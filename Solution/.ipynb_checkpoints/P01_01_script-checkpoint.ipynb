{
 "cells": [
  {
   "cell_type": "markdown",
   "metadata": {
    "slideshow": {
     "slide_type": "notes"
    }
   },
   "source": [
    "# Présentation de l'utilisation du service cognitif Microsoft Azure\n",
    "\n",
    "## Bien démarrer :\n",
    "\n",
    "Pour reproduire se script quelque prerequis sont nécessaire:\n",
    "<ul>\n",
    "    <li>Jupyter, notebook pour l'utilisation de ce script... </li>\n",
    "    <li>Un compte microsoft (création sur <a href=\"https://portal.azure.com/\">portail azure</a>) </li>\n",
    "    <li>Créer une ressource <a href=\"https://portal.azure.com/#create/Microsoft.CognitiveServicesTextAnalytics\"> Cognitive service (Text Analytic) </a></li>\n",
    "</ul>\n",
    "<br>\n",
    "\n",
    "> Il est également possible de créer un service cognitif mais nous allons utiliser que l'analyse de texte.\n",
    "\n",
    "Pour créer cette ressource rendez-vous sur votre portail azure dans la section creation Analytique de texte (*lien au dessus*), puis suivre la procédure de création. **(avant ça, il est nécessaire de créer un abonnement, pour ma part j'ai choisi paiement à l'utilisation)**\n",
    "<br>\n",
    "<br>\n",
    "Il est important de créer un nom unique pour votre ressource et selectionner l'emplacement de votre choix. Ensuite selectionner votre abonnement et le \"tarification\" sur \"Free (F0)\".\n",
    "<br>\n",
    "\n",
    "> J'utilise également une variable d'environement pour sécuriser le mot de passe du service cognitif de microsoft Azure.\n",
    "<br>\n",
    "\n",
    "\n"
   ]
  },
  {
   "cell_type": "markdown",
   "metadata": {
    "slideshow": {
     "slide_type": "notes"
    }
   },
   "source": [
    "\n",
    "## Comment créer une variable d'environement ?\n",
    "\n",
    "Avant tout il faut avoir une clé de notre API Cognitive service et également l'adresse du point de terminaison, pour ça rendez-vous sur votre ressource fraichement crée puis allez dans la section \"Clés et point de terminaison\" OU \"Keys and Endpoint\".<br>\n",
    "\n",
    "\n",
    "<ul>\n",
    "    <li>Sur Windows : <code>setx COGNITIVE_SERVICE_KEY YOUR_API_KEY /m</code> </li>\n",
    "    <li>Sur Linux : <code>export COGNITIVE_SERVICE_KEY=YOUR_API_KEY </code> </li>\n",
    "    <li>Sur MacOS : <code>export COGNITIVE_SERVICE_KEY=YOUR_API_KEY</code> </li>\n",
    "</ul>"
   ]
  },
  {
   "cell_type": "markdown",
   "metadata": {
    "slideshow": {
     "slide_type": "slide"
    }
   },
   "source": [
    "# Test du fonctionnement du service cognitif\n",
    "\n",
    "Le coginitive service de microsoft Azure est un service qui offre de multiples possibilitées, pour notre contexte, qui est la création d'un chatbot avec la fonction polyglotte, le service qui nous interesse est donc celui du language avec le service **Analyse de texte**. \n",
    "<br><br>\n",
    "Chaque *service* du cognitive service Azure implémente une surcouche API_REST qui permet de communiquer avec celui-ci.\n"
   ]
  },
  {
   "cell_type": "markdown",
   "metadata": {
    "slideshow": {
     "slide_type": "subslide"
    }
   },
   "source": [
    "## Sécurisation de la clé\n",
    "\n",
    "Pour ça on récupère la clé de sécuritée stockée dans les variables d'environement."
   ]
  },
  {
   "cell_type": "code",
   "execution_count": 3,
   "metadata": {
    "slideshow": {
     "slide_type": "-"
    }
   },
   "outputs": [],
   "source": [
    "import os\n",
    "# Initialisation de la clé\n",
    "key_secured = os.environ[\"COGNITIVE_SERVICE_KEY\"]"
   ]
  },
  {
   "cell_type": "markdown",
   "metadata": {
    "slideshow": {
     "slide_type": "subslide"
    }
   },
   "source": [
    "## Préparation de la requête d'envoie au service Azure\n",
    "\n",
    "On récupère le endpoint du service Azure puis on prépare l'url d'envoie avec Authentification dans le header de la requête."
   ]
  },
  {
   "cell_type": "code",
   "execution_count": 4,
   "metadata": {
    "slideshow": {
     "slide_type": "-"
    }
   },
   "outputs": [],
   "source": [
    "import requests, uuid, json\n",
    "\n",
    "subscription_key = key_secured\n",
    "# Le endpoint doit correspondre si l'emplacement choisi lors de la création est \"Global\"\n",
    "endpoint = os.environ[\"COGNITIVE_SERVICE_ENDPOINT\"]\n",
    "# pour la fonction polyglotte nous avons besoin de detecter la langue d'envoi\n",
    "# pour ça on fait appel a la fonction \"/detect\" de l'API\n",
    "path = '/text/analytics/v3.0/languages'\n",
    "\n",
    "constructed_url = endpoint + path\n",
    "\n",
    "# Authentification\n",
    "headers = {\n",
    "    'Ocp-Apim-Subscription-Key': subscription_key,\n",
    "    'Content-type': 'application/json',\n",
    "    'X-ClientTraceId': str(uuid.uuid4())\n",
    "}\n"
   ]
  },
  {
   "cell_type": "markdown",
   "metadata": {
    "slideshow": {
     "slide_type": "subslide"
    }
   },
   "source": [
    "## Préparation du texte à envoyer ( test avec 5 langues )\n",
    "\n",
    "Se test est fait sur 5 langues choisies par mes soins, le même texte est juste traduit de 5 façon différentes."
   ]
  },
  {
   "cell_type": "code",
   "execution_count": 5,
   "metadata": {
    "slideshow": {
     "slide_type": "-"
    }
   },
   "outputs": [],
   "source": [
    "sendRequest = {\n",
    "    \"documents\": [\n",
    "        {\n",
    "            'id':1,\n",
    "            'text': 'Hello my name is Sébastien TUCCIO.' # Anglais\n",
    "        },{\n",
    "            'id':2,\n",
    "            'text': 'Bonjour, je m\\'appel Sébastien TUCCIO.' # Français\n",
    "        },{\n",
    "            'id':3,\n",
    "            'text': 'Ciao mi chiamo Sébastien TUCCIO' # Italien\n",
    "        },{\n",
    "            'id':4,\n",
    "            'text': 'Hola, me llamo Sébastien TUCCIO.' # Espagnol\n",
    "        },{\n",
    "            'id':5,\n",
    "            'text': 'Hallo, mein Name ist Sébastien TUCCIO.' # Allemand\n",
    "        }\n",
    "    ]\n",
    "}"
   ]
  },
  {
   "cell_type": "markdown",
   "metadata": {
    "slideshow": {
     "slide_type": "subslide"
    }
   },
   "source": [
    "## Envoie et analyse du retour de la requête (json)"
   ]
  },
  {
   "cell_type": "code",
   "execution_count": 6,
   "metadata": {
    "slideshow": {
     "slide_type": "-"
    }
   },
   "outputs": [
    {
     "name": "stdout",
     "output_type": "stream",
     "text": [
      "{\n",
      "    \"documents\": [\n",
      "        {\n",
      "            \"detectedLanguage\": {\n",
      "                \"confidenceScore\": 0.54,\n",
      "                \"iso6391Name\": \"en\",\n",
      "                \"name\": \"English\"\n",
      "            },\n",
      "            \"id\": \"1\",\n",
      "            \"warnings\": []\n",
      "        },\n",
      "        {\n",
      "            \"detectedLanguage\": {\n",
      "                \"confidenceScore\": 0.71,\n",
      "                \"iso6391Name\": \"fr\",\n",
      "                \"name\": \"French\"\n",
      "            },\n",
      "            \"id\": \"2\",\n",
      "            \"warnings\": []\n",
      "        },\n",
      "        {\n",
      "            \"detectedLanguage\": {\n",
      "                \"confidenceScore\": 0.97,\n",
      "                \"iso6391Name\": \"it\",\n",
      "                \"name\": \"Italian\"\n",
      "            },\n",
      "            \"id\": \"3\",\n",
      "            \"warnings\": []\n",
      "        },\n",
      "        {\n",
      "            \"detectedLanguage\": {\n",
      "                \"confidenceScore\": 0.76,\n",
      "                \"iso6391Name\": \"es\",\n",
      "                \"name\": \"Spanish\"\n",
      "            },\n",
      "            \"id\": \"4\",\n",
      "            \"warnings\": []\n",
      "        },\n",
      "        {\n",
      "            \"detectedLanguage\": {\n",
      "                \"confidenceScore\": 0.78,\n",
      "                \"iso6391Name\": \"de\",\n",
      "                \"name\": \"German\"\n",
      "            },\n",
      "            \"id\": \"5\",\n",
      "            \"warnings\": []\n",
      "        }\n",
      "    ],\n",
      "    \"errors\": [],\n",
      "    \"modelVersion\": \"2021-01-05\"\n",
      "}\n"
     ]
    }
   ],
   "source": [
    "#Envoie de la requête a l'API du service cognitive Azure\n",
    "request = requests.post(constructed_url, headers=headers, json=sendRequest)\n",
    "\n",
    "# Récupération des données\n",
    "response = request.json()\n",
    "\n",
    "# Affichage\n",
    "print(json.dumps(response, sort_keys=True, ensure_ascii=False, indent=4, separators=(',', ': ')))"
   ]
  },
  {
   "cell_type": "markdown",
   "metadata": {
    "slideshow": {
     "slide_type": "subslide"
    }
   },
   "source": [
    "Le texte envoyé à était dans l'ensemble correctement identifié. <br>\n",
    "<br>\n",
    "On remarque 4 éléments clé sur le retour de la requête :\n",
    "<ol>\n",
    "    <li>\"id\" correspond a l'ID du document envoyé</li>\n",
    "    <li>\"name\" correspond à la langue en anglais</li>\n",
    "    <li>\"iso6391Name\" correspond a l'identification de la langue par sont acronyme ISO 639-1 \"fr\" pour \"French\" par exemple. <a href=\"https://docs.microsoft.com/fr-fr/azure/cognitive-services/text-analytics/language-support?tabs=language-detection\">Acronyme à retrouver ici.</a></li>\n",
    "    <li>\"confidenceScore\" correspond à la confiance du résultat. avec 0 qui est un score faible et 1 un indice de confiance élevé</li>\n",
    "</ol>"
   ]
  },
  {
   "cell_type": "markdown",
   "metadata": {
    "slideshow": {
     "slide_type": "slide"
    }
   },
   "source": [
    "# Récupération et Analyse du jeu de données\n",
    "\n",
    "Dans cette partie nous allons récuperer puis faire une analyse rapide du jeu de données."
   ]
  },
  {
   "cell_type": "markdown",
   "metadata": {
    "slideshow": {
     "slide_type": "subslide"
    }
   },
   "source": [
    "## Récupération du DataFrame"
   ]
  },
  {
   "cell_type": "code",
   "execution_count": 7,
   "metadata": {
    "slideshow": {
     "slide_type": "-"
    }
   },
   "outputs": [
    {
     "name": "stdout",
     "output_type": "stream",
     "text": [
      "Dimensionnalité de la DataFrame:  (117500, 2)\n"
     ]
    },
    {
     "data": {
      "text/html": [
       "<div>\n",
       "<style scoped>\n",
       "    .dataframe tbody tr th:only-of-type {\n",
       "        vertical-align: middle;\n",
       "    }\n",
       "\n",
       "    .dataframe tbody tr th {\n",
       "        vertical-align: top;\n",
       "    }\n",
       "\n",
       "    .dataframe thead th {\n",
       "        text-align: right;\n",
       "    }\n",
       "</style>\n",
       "<table border=\"1\" class=\"dataframe\">\n",
       "  <thead>\n",
       "    <tr style=\"text-align: right;\">\n",
       "      <th></th>\n",
       "      <th>text</th>\n",
       "      <th>label</th>\n",
       "    </tr>\n",
       "  </thead>\n",
       "  <tbody>\n",
       "    <tr>\n",
       "      <th>0</th>\n",
       "      <td>Ne l fin de l seclo XIX l Japon era inda çconh...</td>\n",
       "      <td>mwl</td>\n",
       "    </tr>\n",
       "    <tr>\n",
       "      <th>1</th>\n",
       "      <td>Schiedam is gelegen tussen Rotterdam en Vlaard...</td>\n",
       "      <td>nld</td>\n",
       "    </tr>\n",
       "    <tr>\n",
       "      <th>2</th>\n",
       "      <td>ГIурусаз батальонал, гьоркьор гIарадабиги лъун...</td>\n",
       "      <td>ava</td>\n",
       "    </tr>\n",
       "    <tr>\n",
       "      <th>3</th>\n",
       "      <td>ರಾಜ್ಯಶಾಸ್ತ್ರದ ಪಿತಾಮಹೆ ಅರಿಸ್ಟಾಟಲ್. ರಾಜ್ಯಶಾಸ್ತ್ರ...</td>\n",
       "      <td>tcy</td>\n",
       "    </tr>\n",
       "    <tr>\n",
       "      <th>4</th>\n",
       "      <td>Halukum adalah kelenjar tiroid nang menonjol d...</td>\n",
       "      <td>bjn</td>\n",
       "    </tr>\n",
       "    <tr>\n",
       "      <th>...</th>\n",
       "      <td>...</td>\n",
       "      <td>...</td>\n",
       "    </tr>\n",
       "    <tr>\n",
       "      <th>117495</th>\n",
       "      <td>Wakati wa mimba,homa ya Q ni vigumu kutibu kwa...</td>\n",
       "      <td>swa</td>\n",
       "    </tr>\n",
       "    <tr>\n",
       "      <th>117496</th>\n",
       "      <td>گیلون یک ته تاریخی منطقه‌ سفیدرود دلتای طرف ای...</td>\n",
       "      <td>glk</td>\n",
       "    </tr>\n",
       "    <tr>\n",
       "      <th>117497</th>\n",
       "      <td>តាម​រយៈ​ការ​ចិញ្ចឹម​មនោសញ្ចេតនា​ជាតិនិយម​បែប​ន...</td>\n",
       "      <td>khm</td>\n",
       "    </tr>\n",
       "    <tr>\n",
       "      <th>117498</th>\n",
       "      <td>روس اک وفاق اے تے 1 مارچ 2008ء توں اسدیاں 83 و...</td>\n",
       "      <td>pnb</td>\n",
       "    </tr>\n",
       "    <tr>\n",
       "      <th>117499</th>\n",
       "      <td>Chute annaée-lo, la Normaundie n'est pus recou...</td>\n",
       "      <td>nrm</td>\n",
       "    </tr>\n",
       "  </tbody>\n",
       "</table>\n",
       "<p>117500 rows × 2 columns</p>\n",
       "</div>"
      ],
      "text/plain": [
       "                                                     text label\n",
       "0       Ne l fin de l seclo XIX l Japon era inda çconh...   mwl\n",
       "1       Schiedam is gelegen tussen Rotterdam en Vlaard...   nld\n",
       "2       ГIурусаз батальонал, гьоркьор гIарадабиги лъун...   ava\n",
       "3       ರಾಜ್ಯಶಾಸ್ತ್ರದ ಪಿತಾಮಹೆ ಅರಿಸ್ಟಾಟಲ್. ರಾಜ್ಯಶಾಸ್ತ್ರ...   tcy\n",
       "4       Halukum adalah kelenjar tiroid nang menonjol d...   bjn\n",
       "...                                                   ...   ...\n",
       "117495  Wakati wa mimba,homa ya Q ni vigumu kutibu kwa...   swa\n",
       "117496  گیلون یک ته تاریخی منطقه‌ سفیدرود دلتای طرف ای...   glk\n",
       "117497  តាម​រយៈ​ការ​ចិញ្ចឹម​មនោសញ្ចេតនា​ជាតិនិយម​បែប​ន...   khm\n",
       "117498  روس اک وفاق اے تے 1 مارچ 2008ء توں اسدیاں 83 و...   pnb\n",
       "117499  Chute annaée-lo, la Normaundie n'est pus recou...   nrm\n",
       "\n",
       "[117500 rows x 2 columns]"
      ]
     },
     "execution_count": 7,
     "metadata": {},
     "output_type": "execute_result"
    }
   ],
   "source": [
    "import pandas as pd\n",
    "import numpy as np\n",
    "\n",
    "# récupération du jeu de données dans \"x_test.txt\"\n",
    "dfx = pd.read_csv(\"./data/x_test.txt\",header=None,delimiter=\"\\r\\n\",encoding=\"utf-8\",engine=\"python\",names=['text'])\n",
    "# Ajout dans une nouvelle columns \"label\" qui correspond au label du fichier label.csv que nous allons implémenter par la suite\n",
    "dfx[\"label\"] = pd.read_csv(\"./data/y_test.txt\",header=None,delimiter=\"\\r\\n\",encoding=\"utf-8\",engine=\"python\")\n",
    "\n",
    "print(\"Dimensionnalité de la DataFrame: \", dfx.shape)\n",
    "dfx"
   ]
  },
  {
   "cell_type": "markdown",
   "metadata": {
    "slideshow": {
     "slide_type": "subslide"
    }
   },
   "source": [
    "Nous avons maintenant une data frame de 117.500 lignes avec le texte et le label associés.\n",
    "<br><br>\n",
    "Le label est le \"Code pour la représentration des noms de langue\" = **ISO369-3**. <br>\n",
    "Cet indicateur vas nous permettre de merge **\"label\"** avec **\"ISO 369-3\"** du fichier label.<br>\n",
    "Le **Wiki Code** du fichier Label permettra de connaitre la langue lors de la détection avec Azure car c'est celui qui se rapporche le plus du format final (que nous retourne le service)."
   ]
  },
  {
   "cell_type": "markdown",
   "metadata": {
    "slideshow": {
     "slide_type": "subslide"
    }
   },
   "source": [
    "## Récupération du fichier Label"
   ]
  },
  {
   "cell_type": "code",
   "execution_count": 8,
   "metadata": {
    "slideshow": {
     "slide_type": "-"
    }
   },
   "outputs": [
    {
     "name": "stdout",
     "output_type": "stream",
     "text": [
      "Dimensionnalité de la DataFrame:  (231, 4)\n"
     ]
    },
    {
     "data": {
      "text/html": [
       "<div>\n",
       "<style scoped>\n",
       "    .dataframe tbody tr th:only-of-type {\n",
       "        vertical-align: middle;\n",
       "    }\n",
       "\n",
       "    .dataframe tbody tr th {\n",
       "        vertical-align: top;\n",
       "    }\n",
       "\n",
       "    .dataframe thead th {\n",
       "        text-align: right;\n",
       "    }\n",
       "</style>\n",
       "<table border=\"1\" class=\"dataframe\">\n",
       "  <thead>\n",
       "    <tr style=\"text-align: right;\">\n",
       "      <th></th>\n",
       "      <th>Label</th>\n",
       "      <th>English</th>\n",
       "      <th>Wiki Code</th>\n",
       "      <th>ISO 369-3</th>\n",
       "    </tr>\n",
       "  </thead>\n",
       "  <tbody>\n",
       "    <tr>\n",
       "      <th>0</th>\n",
       "      <td>ace</td>\n",
       "      <td>Achinese</td>\n",
       "      <td>ace</td>\n",
       "      <td>ace</td>\n",
       "    </tr>\n",
       "    <tr>\n",
       "      <th>1</th>\n",
       "      <td>afr</td>\n",
       "      <td>Afrikaans</td>\n",
       "      <td>af</td>\n",
       "      <td>afr</td>\n",
       "    </tr>\n",
       "    <tr>\n",
       "      <th>2</th>\n",
       "      <td>als</td>\n",
       "      <td>Alemannic German</td>\n",
       "      <td>als</td>\n",
       "      <td>gsw</td>\n",
       "    </tr>\n",
       "    <tr>\n",
       "      <th>3</th>\n",
       "      <td>amh</td>\n",
       "      <td>Amharic</td>\n",
       "      <td>am</td>\n",
       "      <td>amh</td>\n",
       "    </tr>\n",
       "    <tr>\n",
       "      <th>4</th>\n",
       "      <td>ang</td>\n",
       "      <td>Old English</td>\n",
       "      <td>ang</td>\n",
       "      <td>ang</td>\n",
       "    </tr>\n",
       "  </tbody>\n",
       "</table>\n",
       "</div>"
      ],
      "text/plain": [
       "  Label           English Wiki Code ISO 369-3\n",
       "0   ace          Achinese       ace       ace\n",
       "1   afr         Afrikaans        af       afr\n",
       "2   als  Alemannic German       als       gsw\n",
       "3   amh           Amharic        am       amh\n",
       "4   ang      Old English        ang       ang"
      ]
     },
     "execution_count": 8,
     "metadata": {},
     "output_type": "execute_result"
    }
   ],
   "source": [
    "# Récupération du fichier label\n",
    "lab = pd.read_csv(\"./data/labels.csv\",sep=\";\",encoding=\"utf-8\")\n",
    "# On ne conserve que les columns qui peuvent nous interesser\n",
    "lab= lab.drop(columns=[\"Writing system\",\"German\",\"Remarks\",\"Synonyms\",\"Language family\"])\n",
    "# On nettoye le jeu de données des valeurs nulle\n",
    "lab=lab.dropna(how=\"any\")\n",
    "\n",
    "\n",
    "print(\"Dimensionnalité de la DataFrame: \", lab.shape)\n",
    "lab.head()"
   ]
  },
  {
   "cell_type": "markdown",
   "metadata": {
    "slideshow": {
     "slide_type": "-"
    }
   },
   "source": [
    "Après récupération et nettoyage du fichier nous avons 231 **Label** et **ISO 369-3** associés."
   ]
  },
  {
   "cell_type": "markdown",
   "metadata": {
    "slideshow": {
     "slide_type": "slide"
    }
   },
   "source": [
    "# Prépration du jeu de données\n",
    "\n",
    "Nous avons déjà nettoyé le jeu de données et préparé une partie du jeu de données. <br>\n",
    "Il nous reste 2 informations à combiner : \n",
    "<ol>\n",
    "    <li>Le dataframe contenant tous les paragraphes et le label associés</li>\n",
    "    <li>le fichier de label qui lui associe le label et l'ISO 639-1 (Wiki Code)</li>\n",
    "</ol>\n"
   ]
  },
  {
   "cell_type": "code",
   "execution_count": 9,
   "metadata": {
    "slideshow": {
     "slide_type": "-"
    }
   },
   "outputs": [
    {
     "data": {
      "text/html": [
       "<div>\n",
       "<style scoped>\n",
       "    .dataframe tbody tr th:only-of-type {\n",
       "        vertical-align: middle;\n",
       "    }\n",
       "\n",
       "    .dataframe tbody tr th {\n",
       "        vertical-align: top;\n",
       "    }\n",
       "\n",
       "    .dataframe thead th {\n",
       "        text-align: right;\n",
       "    }\n",
       "</style>\n",
       "<table border=\"1\" class=\"dataframe\">\n",
       "  <thead>\n",
       "    <tr style=\"text-align: right;\">\n",
       "      <th></th>\n",
       "      <th>text</th>\n",
       "      <th>English</th>\n",
       "      <th>lang_iso_639-1</th>\n",
       "      <th>id</th>\n",
       "    </tr>\n",
       "  </thead>\n",
       "  <tbody>\n",
       "    <tr>\n",
       "      <th>0</th>\n",
       "      <td>Ne l fin de l seclo XIX l Japon era inda çconh...</td>\n",
       "      <td>Mirandese</td>\n",
       "      <td>mwl</td>\n",
       "      <td>0</td>\n",
       "    </tr>\n",
       "    <tr>\n",
       "      <th>1</th>\n",
       "      <td>Schiedam is gelegen tussen Rotterdam en Vlaard...</td>\n",
       "      <td>Dutch</td>\n",
       "      <td>nl</td>\n",
       "      <td>1</td>\n",
       "    </tr>\n",
       "    <tr>\n",
       "      <th>2</th>\n",
       "      <td>ГIурусаз батальонал, гьоркьор гIарадабиги лъун...</td>\n",
       "      <td>Avar</td>\n",
       "      <td>av</td>\n",
       "      <td>2</td>\n",
       "    </tr>\n",
       "    <tr>\n",
       "      <th>3</th>\n",
       "      <td>ರಾಜ್ಯಶಾಸ್ತ್ರದ ಪಿತಾಮಹೆ ಅರಿಸ್ಟಾಟಲ್. ರಾಜ್ಯಶಾಸ್ತ್ರ...</td>\n",
       "      <td>Tulu</td>\n",
       "      <td>tcy</td>\n",
       "      <td>3</td>\n",
       "    </tr>\n",
       "    <tr>\n",
       "      <th>4</th>\n",
       "      <td>Halukum adalah kelenjar tiroid nang menonjol d...</td>\n",
       "      <td>Banjar</td>\n",
       "      <td>bjn</td>\n",
       "      <td>4</td>\n",
       "    </tr>\n",
       "    <tr>\n",
       "      <th>...</th>\n",
       "      <td>...</td>\n",
       "      <td>...</td>\n",
       "      <td>...</td>\n",
       "      <td>...</td>\n",
       "    </tr>\n",
       "    <tr>\n",
       "      <th>117995</th>\n",
       "      <td>Wakati wa mimba,homa ya Q ni vigumu kutibu kwa...</td>\n",
       "      <td>Swahili (macrolanguage)</td>\n",
       "      <td>sw</td>\n",
       "      <td>117995</td>\n",
       "    </tr>\n",
       "    <tr>\n",
       "      <th>117996</th>\n",
       "      <td>گیلون یک ته تاریخی منطقه‌ سفیدرود دلتای طرف ای...</td>\n",
       "      <td>Gilaki</td>\n",
       "      <td>glk</td>\n",
       "      <td>117996</td>\n",
       "    </tr>\n",
       "    <tr>\n",
       "      <th>117997</th>\n",
       "      <td>តាម​រយៈ​ការ​ចិញ្ចឹម​មនោសញ្ចេតនា​ជាតិនិយម​បែប​ន...</td>\n",
       "      <td>Central Khmer</td>\n",
       "      <td>km</td>\n",
       "      <td>117997</td>\n",
       "    </tr>\n",
       "    <tr>\n",
       "      <th>117998</th>\n",
       "      <td>روس اک وفاق اے تے 1 مارچ 2008ء توں اسدیاں 83 و...</td>\n",
       "      <td>Western Panjabi</td>\n",
       "      <td>pnb</td>\n",
       "      <td>117998</td>\n",
       "    </tr>\n",
       "    <tr>\n",
       "      <th>117999</th>\n",
       "      <td>Chute annaée-lo, la Normaundie n'est pus recou...</td>\n",
       "      <td>Narom</td>\n",
       "      <td>nrm</td>\n",
       "      <td>117999</td>\n",
       "    </tr>\n",
       "  </tbody>\n",
       "</table>\n",
       "<p>118000 rows × 4 columns</p>\n",
       "</div>"
      ],
      "text/plain": [
       "                                                     text  \\\n",
       "0       Ne l fin de l seclo XIX l Japon era inda çconh...   \n",
       "1       Schiedam is gelegen tussen Rotterdam en Vlaard...   \n",
       "2       ГIурусаз батальонал, гьоркьор гIарадабиги лъун...   \n",
       "3       ರಾಜ್ಯಶಾಸ್ತ್ರದ ಪಿತಾಮಹೆ ಅರಿಸ್ಟಾಟಲ್. ರಾಜ್ಯಶಾಸ್ತ್ರ...   \n",
       "4       Halukum adalah kelenjar tiroid nang menonjol d...   \n",
       "...                                                   ...   \n",
       "117995  Wakati wa mimba,homa ya Q ni vigumu kutibu kwa...   \n",
       "117996  گیلون یک ته تاریخی منطقه‌ سفیدرود دلتای طرف ای...   \n",
       "117997  តាម​រយៈ​ការ​ចិញ្ចឹម​មនោសញ្ចេតនា​ជាតិនិយម​បែប​ន...   \n",
       "117998  روس اک وفاق اے تے 1 مارچ 2008ء توں اسدیاں 83 و...   \n",
       "117999  Chute annaée-lo, la Normaundie n'est pus recou...   \n",
       "\n",
       "                        English lang_iso_639-1      id  \n",
       "0                     Mirandese            mwl       0  \n",
       "1                         Dutch             nl       1  \n",
       "2                          Avar             av       2  \n",
       "3                          Tulu            tcy       3  \n",
       "4                        Banjar            bjn       4  \n",
       "...                         ...            ...     ...  \n",
       "117995  Swahili (macrolanguage)             sw  117995  \n",
       "117996                   Gilaki            glk  117996  \n",
       "117997            Central Khmer             km  117997  \n",
       "117998          Western Panjabi            pnb  117998  \n",
       "117999                    Narom            nrm  117999  \n",
       "\n",
       "[118000 rows x 4 columns]"
      ]
     },
     "execution_count": 9,
     "metadata": {},
     "output_type": "execute_result"
    }
   ],
   "source": [
    "# Utilisation de l'algèbre relationnelle (jointure gauche par l'index \"Label\" et \"ISO 369-3\")\n",
    "df_merge = dfx.merge(lab,left_on=\"label\",right_on=\"ISO 369-3\",how=\"left\")\n",
    "# Suppression des columns inutile pour la suite\n",
    "df_merge= df_merge.drop(columns=[\"ISO 369-3\",\"Label\",\"label\"])\n",
    "df_merge=df_merge.rename(columns={\"Wiki Code\":\"lang_iso_639-1\"})\n",
    "df_merge[\"id\"]=df_merge.index\n",
    "df_merge"
   ]
  },
  {
   "cell_type": "markdown",
   "metadata": {
    "slideshow": {
     "slide_type": "subslide"
    }
   },
   "source": [
    "\n",
    "Le jeu de données comprends maintenant : \n",
    "1. le paragraphe \n",
    "2. l'ISO 639-1\n",
    "3. la langue en Anglais (optionnel, gardée pour plus de compréhension)\n",
    "\n",
    "\n"
   ]
  },
  {
   "cell_type": "markdown",
   "metadata": {
    "slideshow": {
     "slide_type": "subslide"
    }
   },
   "source": [
    "## Répartition du dataset"
   ]
  },
  {
   "cell_type": "code",
   "execution_count": 10,
   "metadata": {
    "slideshow": {
     "slide_type": "-"
    }
   },
   "outputs": [
    {
     "data": {
      "text/plain": [
       "count    230.0\n",
       "mean     500.0\n",
       "std        0.0\n",
       "min      500.0\n",
       "25%      500.0\n",
       "50%      500.0\n",
       "75%      500.0\n",
       "max      500.0\n",
       "dtype: float64"
      ]
     },
     "execution_count": 10,
     "metadata": {},
     "output_type": "execute_result"
    }
   ],
   "source": [
    "count = df_merge[[\"lang_iso_639-1\",\"English\"]].value_counts()\n",
    "\n",
    "count.describe()"
   ]
  },
  {
   "cell_type": "markdown",
   "metadata": {
    "slideshow": {
     "slide_type": "-"
    }
   },
   "source": [
    "On constate que sur toutes les langues il y a 500 paragraphes exactement."
   ]
  },
  {
   "cell_type": "markdown",
   "metadata": {
    "slideshow": {
     "slide_type": "slide"
    }
   },
   "source": [
    "# Sélection des 5 langues les plus parlées\n",
    "\n",
    "Dans cette partie nous allons selectionner les 5 langues les plus parlées dans le monde afin de faire un test du service cognitive sur sa fiabilité à donner le bon résultat.<br>\n",
    "<br>\n",
    "Les 5 langues les plus parlées dans le monde sont dans l'ordre :\n",
    "1. Chinese\n",
    "2. Spanish\n",
    "3. English\n",
    "4. Hindi\n",
    "5. Arabic\n",
    "\n",
    "Source : <a href=\"https://www.babbel.com/en/magazine/the-10-most-spoken-languages-in-the-world\">babbel.com</a>"
   ]
  },
  {
   "cell_type": "markdown",
   "metadata": {
    "slideshow": {
     "slide_type": "subslide"
    }
   },
   "source": [
    "## Récupération des labels des langues les plus parlées depuis le dataframe Label"
   ]
  },
  {
   "cell_type": "code",
   "execution_count": 11,
   "metadata": {
    "slideshow": {
     "slide_type": "-"
    }
   },
   "outputs": [
    {
     "name": "stdout",
     "output_type": "stream",
     "text": [
      "la reférence en ISO 639-1 pour la langue \" Standard Chinese \" (en Anglais) est:  zh\n"
     ]
    }
   ],
   "source": [
    "# On recupére les 5 ISO 639-1 des 5 langue les plus parlé dans le monde\n",
    "five_langue = ['zh', 'es','en','hi','ar']\n",
    "# Pour retrouver la forme ISO 639-1(Wiki Code) on peut utiliser cette ligne :\n",
    "Langue_to_test = 'Standard Chinese'\n",
    "print(\"la reférence en ISO 639-1 pour la langue \\\"\",\n",
    "      Langue_to_test,\n",
    "      \"\\\" (en Anglais) est: \",\n",
    "      lab.loc[lab['English'] == Langue_to_test][\"Wiki Code\"].values[0])\n"
   ]
  },
  {
   "cell_type": "markdown",
   "metadata": {
    "slideshow": {
     "slide_type": "subslide"
    }
   },
   "source": [
    "## Création du dataset d'envoie des données"
   ]
  },
  {
   "cell_type": "code",
   "execution_count": 12,
   "metadata": {
    "slideshow": {
     "slide_type": "-"
    }
   },
   "outputs": [
    {
     "data": {
      "text/html": [
       "<div>\n",
       "<style scoped>\n",
       "    .dataframe tbody tr th:only-of-type {\n",
       "        vertical-align: middle;\n",
       "    }\n",
       "\n",
       "    .dataframe tbody tr th {\n",
       "        vertical-align: top;\n",
       "    }\n",
       "\n",
       "    .dataframe thead th {\n",
       "        text-align: right;\n",
       "    }\n",
       "</style>\n",
       "<table border=\"1\" class=\"dataframe\">\n",
       "  <thead>\n",
       "    <tr style=\"text-align: right;\">\n",
       "      <th></th>\n",
       "      <th>text</th>\n",
       "      <th>English</th>\n",
       "      <th>lang_iso_639-1</th>\n",
       "      <th>id</th>\n",
       "    </tr>\n",
       "  </thead>\n",
       "  <tbody>\n",
       "    <tr>\n",
       "      <th>15</th>\n",
       "      <td>كانت رحلة كوك - فولسوم - بيترسون الاستكشافية ع...</td>\n",
       "      <td>Arabic</td>\n",
       "      <td>ar</td>\n",
       "      <td>15</td>\n",
       "    </tr>\n",
       "    <tr>\n",
       "      <th>42</th>\n",
       "      <td>大都会区有它自己的当地路边快餐口味，包括瓦达帕夫（蓬松面包劈开一半，填入锅贴）、潘尼普里（油...</td>\n",
       "      <td>Standard Chinese</td>\n",
       "      <td>zh</td>\n",
       "      <td>42</td>\n",
       "    </tr>\n",
       "    <tr>\n",
       "      <th>50</th>\n",
       "      <td>La ciudad de San Cristóbal es sede del Hospita...</td>\n",
       "      <td>Spanish</td>\n",
       "      <td>es</td>\n",
       "      <td>50</td>\n",
       "    </tr>\n",
       "    <tr>\n",
       "      <th>68</th>\n",
       "      <td>Anton (or Antonius) Maria Schyrleus (also Schy...</td>\n",
       "      <td>English</td>\n",
       "      <td>en</td>\n",
       "      <td>68</td>\n",
       "    </tr>\n",
       "    <tr>\n",
       "      <th>113</th>\n",
       "      <td>बांग्लादेश के मुख्य न्यायाधीश का पद, बांग्लादे...</td>\n",
       "      <td>Hindi</td>\n",
       "      <td>hi</td>\n",
       "      <td>113</td>\n",
       "    </tr>\n",
       "    <tr>\n",
       "      <th>...</th>\n",
       "      <td>...</td>\n",
       "      <td>...</td>\n",
       "      <td>...</td>\n",
       "      <td>...</td>\n",
       "    </tr>\n",
       "    <tr>\n",
       "      <th>117696</th>\n",
       "      <td>Fue fundado el 18 de octubre de 1963. El día 2...</td>\n",
       "      <td>Spanish</td>\n",
       "      <td>es</td>\n",
       "      <td>117696</td>\n",
       "    </tr>\n",
       "    <tr>\n",
       "      <th>117775</th>\n",
       "      <td>戈尔巴乔夫结束了苏共的专制和暴政，使人民获得了民主、法治和自由，并使得东欧国家自主发展，结束...</td>\n",
       "      <td>Standard Chinese</td>\n",
       "      <td>zh</td>\n",
       "      <td>117775</td>\n",
       "    </tr>\n",
       "    <tr>\n",
       "      <th>117779</th>\n",
       "      <td>El investigador ha recibido varios reconocimie...</td>\n",
       "      <td>Spanish</td>\n",
       "      <td>es</td>\n",
       "      <td>117779</td>\n",
       "    </tr>\n",
       "    <tr>\n",
       "      <th>117964</th>\n",
       "      <td>Con motivo de la celebración del Septuagésimoq...</td>\n",
       "      <td>Spanish</td>\n",
       "      <td>es</td>\n",
       "      <td>117964</td>\n",
       "    </tr>\n",
       "    <tr>\n",
       "      <th>117971</th>\n",
       "      <td>1999年10月，當時還只有16歲的她在美國出道，以Mai-K名義推出首張英文《Baby I...</td>\n",
       "      <td>Standard Chinese</td>\n",
       "      <td>zh</td>\n",
       "      <td>117971</td>\n",
       "    </tr>\n",
       "  </tbody>\n",
       "</table>\n",
       "<p>2500 rows × 4 columns</p>\n",
       "</div>"
      ],
      "text/plain": [
       "                                                     text           English  \\\n",
       "15      كانت رحلة كوك - فولسوم - بيترسون الاستكشافية ع...            Arabic   \n",
       "42      大都会区有它自己的当地路边快餐口味，包括瓦达帕夫（蓬松面包劈开一半，填入锅贴）、潘尼普里（油...  Standard Chinese   \n",
       "50      La ciudad de San Cristóbal es sede del Hospita...           Spanish   \n",
       "68      Anton (or Antonius) Maria Schyrleus (also Schy...           English   \n",
       "113     बांग्लादेश के मुख्य न्यायाधीश का पद, बांग्लादे...             Hindi   \n",
       "...                                                   ...               ...   \n",
       "117696  Fue fundado el 18 de octubre de 1963. El día 2...           Spanish   \n",
       "117775  戈尔巴乔夫结束了苏共的专制和暴政，使人民获得了民主、法治和自由，并使得东欧国家自主发展，结束...  Standard Chinese   \n",
       "117779  El investigador ha recibido varios reconocimie...           Spanish   \n",
       "117964  Con motivo de la celebración del Septuagésimoq...           Spanish   \n",
       "117971  1999年10月，當時還只有16歲的她在美國出道，以Mai-K名義推出首張英文《Baby I...  Standard Chinese   \n",
       "\n",
       "       lang_iso_639-1      id  \n",
       "15                 ar      15  \n",
       "42                 zh      42  \n",
       "50                 es      50  \n",
       "68                 en      68  \n",
       "113                hi     113  \n",
       "...               ...     ...  \n",
       "117696             es  117696  \n",
       "117775             zh  117775  \n",
       "117779             es  117779  \n",
       "117964             es  117964  \n",
       "117971             zh  117971  \n",
       "\n",
       "[2500 rows x 4 columns]"
      ]
     },
     "execution_count": 12,
     "metadata": {},
     "output_type": "execute_result"
    }
   ],
   "source": [
    "test = df_merge[df_merge[\"lang_iso_639-1\"].isin(five_langue)]\n",
    "test"
   ]
  },
  {
   "cell_type": "markdown",
   "metadata": {
    "slideshow": {
     "slide_type": "-"
    }
   },
   "source": [
    "La création du dataset est terminée, nous avons un dataset comprenant les paragraphes et l'ISO639-1 pour les 5 langues choisies."
   ]
  },
  {
   "cell_type": "markdown",
   "metadata": {
    "slideshow": {
     "slide_type": "slide"
    }
   },
   "source": [
    "# Envoi du dataset au service cognitif Azure\n",
    "\n",
    "> Pour plus de clarté, je réecrie certaine partie de code faite dans la partie test du service cognitif\n",
    "\n",
    "Dans l'ensemble le code d'envoie est similaire au premier utilisé. <br>\n",
    "J'utiliserais ici les librairies Azure, les 2 fonctionnements peuvent être utilisés."
   ]
  },
  {
   "cell_type": "code",
   "execution_count": 13,
   "metadata": {
    "slideshow": {
     "slide_type": "subslide"
    }
   },
   "outputs": [],
   "source": [
    "from azure.core.credentials import AzureKeyCredential\n",
    "from azure.ai.textanalytics import TextAnalyticsClient\n",
    "\n",
    "key = os.environ[\"COGNITIVE_SERVICE_KEY\"]\n",
    "\n",
    "endpoint = os.environ[\"COGNITIVE_SERVICE_ENDPOINT\"]"
   ]
  },
  {
   "cell_type": "code",
   "execution_count": 14,
   "metadata": {
    "slideshow": {
     "slide_type": "-"
    }
   },
   "outputs": [],
   "source": [
    "# Authentification\n",
    "def authenticate_client():\n",
    "    ta_credential = AzureKeyCredential(key)\n",
    "    text_analytics_client = TextAnalyticsClient(\n",
    "            endpoint=endpoint, \n",
    "            credential=ta_credential) \n",
    "    return text_analytics_client\n",
    "   \n",
    "client = authenticate_client()"
   ]
  },
  {
   "cell_type": "code",
   "execution_count": 15,
   "metadata": {
    "slideshow": {
     "slide_type": "-"
    }
   },
   "outputs": [],
   "source": [
    "# Création de la méthode de détection du language d'un document\n",
    "def language_detection(client,documents):\n",
    "    try:\n",
    "        response = client.detect_language(documents = documents, country_hint = 'us')\n",
    "        return response\n",
    "\n",
    "    except Exception as err:\n",
    "        print(\"Encountered exception. {}\".format(err))"
   ]
  },
  {
   "cell_type": "markdown",
   "metadata": {
    "slideshow": {
     "slide_type": "subslide"
    }
   },
   "source": [
    "## Nombre de textes pour notre échantillon"
   ]
  },
  {
   "cell_type": "code",
   "execution_count": 16,
   "metadata": {
    "slideshow": {
     "slide_type": "-"
    }
   },
   "outputs": [],
   "source": [
    "# Le maximum est de 500 par langue (nombre de paragraphes par langue)\n",
    "nb_text = 100"
   ]
  },
  {
   "cell_type": "markdown",
   "metadata": {
    "slideshow": {
     "slide_type": "-"
    }
   },
   "source": [
    "Le service cognitif Azure est maintenant prêt à être utilisé, pour ce faire nous allons créer un échantillons de données pour récupérer le nombre de textes dans chaque langues définis au dessus dans la variable `nb_text`."
   ]
  },
  {
   "cell_type": "markdown",
   "metadata": {
    "slideshow": {
     "slide_type": "subslide"
    }
   },
   "source": [
    "## Transformation en document pour l'envoie au service Azure"
   ]
  },
  {
   "cell_type": "code",
   "execution_count": 17,
   "metadata": {
    "slideshow": {
     "slide_type": "-"
    }
   },
   "outputs": [
    {
     "name": "stdout",
     "output_type": "stream",
     "text": [
      "La taille de l'échantillon est de:  500\n",
      "Format d'un échantillon:  {'text': 'كانت رحلة كوك - فولسوم - بيترسون الاستكشافية عام 1869م أول رحلة استكشافية مفصلة إلى منطقة يلوستون، وضمت الرحلة ثلاثة مستكشفين ممّولين من قِبَل القطاع الخاص وقد تبع فريق فولسوم نهر يلوستون إلى بحيرة يلوستون وقد احتفظ الأعضاء بمجلة واعتمدوا على المعلومات الواردة فيها. بعد ذلك نظّم فريق من سكان مونتانا رحلة واشبرن – لانغفورد - دُوان الاستكشافية عام 1870م. ترأسها مسّاح الأراضي العام لمونتانا هنري واشبرن بالإضافة إلى ناثانيل بي لانغفورد وكتيبة من الجيش الأمريكي بقيادة المُلازم غوستافوس دُوان لانغفورد الذي أصبح يعرف باسم \"المنتزه الوطني\". استغرقت الرحلة ما يُقارب الشهر في استكشاف المنطقة وجمع العينات وتسمية المواقع الهامة واقترح كاتب ومحامي في مونتانا يدعى كورنيليوس هِدقس وكان عضوًا في رحلة واشبرن الاستكشافية ضرورة وضع المنطقة جانبًا وحمايتها باعتبارها منتزهًا وطنيًا وقد كتب عددًا من المقالات المفصّلة لصحيفة هيلينا هيرالد بين 1870 و 1871 حول ملاحظاته.', 'English': 'Arabic', 'lang_iso_639-1': 'ar', 'id': 15}\n"
     ]
    }
   ],
   "source": [
    "# Cette ligne permet de selectionner seulement les n premier ligne pour chaque lang iso choisi \n",
    "# Et également de les formater au format \"record\" => \"key\"=> \"value\"\n",
    "sample_test = test.groupby('lang_iso_639-1').head(nb_text).to_dict(\"records\")\n",
    "print(\"La taille de l'échantillon est de: \",len(sample_test))\n",
    "print(\"Format d'un échantillon: \",sample_test[0])"
   ]
  },
  {
   "cell_type": "code",
   "execution_count": 18,
   "metadata": {
    "slideshow": {
     "slide_type": "-"
    }
   },
   "outputs": [],
   "source": [
    "# résultat contenant tout les documents\n",
    "result = language_detection(client,sample_test)"
   ]
  },
  {
   "cell_type": "markdown",
   "metadata": {
    "slideshow": {
     "slide_type": "slide"
    }
   },
   "source": [
    "# Analyse des résultats\n",
    "\n",
    "Maintenant que nous avons les résultats il faut les implémenter et les comparer pour voir la véracité des informations retournées."
   ]
  },
  {
   "cell_type": "markdown",
   "metadata": {
    "slideshow": {
     "slide_type": "subslide"
    }
   },
   "source": [
    "## Préparation du jeu de données pour l'analyse"
   ]
  },
  {
   "cell_type": "code",
   "execution_count": 19,
   "metadata": {
    "slideshow": {
     "slide_type": "-"
    }
   },
   "outputs": [],
   "source": [
    "mapResult = {}\n",
    "for doc in result:\n",
    "#     print(\"Language detected: {}\".format(doc.primary_language.name))\n",
    "#     print(\"ISO6391 name: {}\".format(doc.primary_language.iso6391_name))\n",
    "#     print(\"Confidence score: {}\".format(doc.primary_language.confidence_score))\n",
    "#     print(\"ID document: {}\\n\".format(doc.id))\n",
    "    mapResult[int(doc.id)]={\n",
    "        \"lang_iso\":doc.primary_language.iso6391_name,\n",
    "        \"score\":doc.primary_language.confidence_score\n",
    "    }\n",
    "    \n"
   ]
  },
  {
   "cell_type": "code",
   "execution_count": 20,
   "metadata": {
    "slideshow": {
     "slide_type": "-"
    }
   },
   "outputs": [],
   "source": [
    "# Ajout de 2 columns \"score\" et \"detect_lang\" qui sont les résultat de la requête azure\n",
    "for i in range(len(sample_test)):\n",
    "    sample_test[i][\"score\"]=mapResult[sample_test[i][\"id\"]][\"score\"]\n",
    "    # iso 639-1 ne prend que 2 caractère, il faut donc prendre que les 2 premier caractère.\n",
    "    sample_test[i][\"detect_lang\"]=mapResult[sample_test[i][\"id\"]][\"lang_iso\"][:2]\n",
    "    "
   ]
  },
  {
   "cell_type": "markdown",
   "metadata": {
    "slideshow": {
     "slide_type": "subslide"
    }
   },
   "source": [
    "## Comparatif attendue/obtenue"
   ]
  },
  {
   "cell_type": "code",
   "execution_count": 21,
   "metadata": {
    "slideshow": {
     "slide_type": "-"
    }
   },
   "outputs": [
    {
     "data": {
      "text/html": [
       "<div>\n",
       "<style scoped>\n",
       "    .dataframe tbody tr th:only-of-type {\n",
       "        vertical-align: middle;\n",
       "    }\n",
       "\n",
       "    .dataframe tbody tr th {\n",
       "        vertical-align: top;\n",
       "    }\n",
       "\n",
       "    .dataframe thead th {\n",
       "        text-align: right;\n",
       "    }\n",
       "</style>\n",
       "<table border=\"1\" class=\"dataframe\">\n",
       "  <thead>\n",
       "    <tr style=\"text-align: right;\">\n",
       "      <th></th>\n",
       "      <th>text</th>\n",
       "      <th>English</th>\n",
       "      <th>lang_iso_639-1</th>\n",
       "      <th>id</th>\n",
       "      <th>score</th>\n",
       "      <th>detect_lang</th>\n",
       "      <th>good_detection</th>\n",
       "    </tr>\n",
       "  </thead>\n",
       "  <tbody>\n",
       "    <tr>\n",
       "      <th>0</th>\n",
       "      <td>كانت رحلة كوك - فولسوم - بيترسون الاستكشافية ع...</td>\n",
       "      <td>Arabic</td>\n",
       "      <td>ar</td>\n",
       "      <td>15</td>\n",
       "      <td>1.00</td>\n",
       "      <td>ar</td>\n",
       "      <td>1</td>\n",
       "    </tr>\n",
       "    <tr>\n",
       "      <th>1</th>\n",
       "      <td>大都会区有它自己的当地路边快餐口味，包括瓦达帕夫（蓬松面包劈开一半，填入锅贴）、潘尼普里（油...</td>\n",
       "      <td>Standard Chinese</td>\n",
       "      <td>zh</td>\n",
       "      <td>42</td>\n",
       "      <td>0.99</td>\n",
       "      <td>zh</td>\n",
       "      <td>1</td>\n",
       "    </tr>\n",
       "    <tr>\n",
       "      <th>2</th>\n",
       "      <td>La ciudad de San Cristóbal es sede del Hospita...</td>\n",
       "      <td>Spanish</td>\n",
       "      <td>es</td>\n",
       "      <td>50</td>\n",
       "      <td>0.83</td>\n",
       "      <td>es</td>\n",
       "      <td>1</td>\n",
       "    </tr>\n",
       "    <tr>\n",
       "      <th>3</th>\n",
       "      <td>Anton (or Antonius) Maria Schyrleus (also Schy...</td>\n",
       "      <td>English</td>\n",
       "      <td>en</td>\n",
       "      <td>68</td>\n",
       "      <td>0.98</td>\n",
       "      <td>en</td>\n",
       "      <td>1</td>\n",
       "    </tr>\n",
       "    <tr>\n",
       "      <th>4</th>\n",
       "      <td>बांग्लादेश के मुख्य न्यायाधीश का पद, बांग्लादे...</td>\n",
       "      <td>Hindi</td>\n",
       "      <td>hi</td>\n",
       "      <td>113</td>\n",
       "      <td>1.00</td>\n",
       "      <td>hi</td>\n",
       "      <td>1</td>\n",
       "    </tr>\n",
       "    <tr>\n",
       "      <th>...</th>\n",
       "      <td>...</td>\n",
       "      <td>...</td>\n",
       "      <td>...</td>\n",
       "      <td>...</td>\n",
       "      <td>...</td>\n",
       "      <td>...</td>\n",
       "      <td>...</td>\n",
       "    </tr>\n",
       "    <tr>\n",
       "      <th>495</th>\n",
       "      <td>Mientras Gaff protege la entrada a la casa de ...</td>\n",
       "      <td>Spanish</td>\n",
       "      <td>es</td>\n",
       "      <td>28521</td>\n",
       "      <td>0.99</td>\n",
       "      <td>es</td>\n",
       "      <td>1</td>\n",
       "    </tr>\n",
       "    <tr>\n",
       "      <th>496</th>\n",
       "      <td>Lucé-sous-Ballon es una población y comuna fra...</td>\n",
       "      <td>Spanish</td>\n",
       "      <td>es</td>\n",
       "      <td>28554</td>\n",
       "      <td>0.98</td>\n",
       "      <td>es</td>\n",
       "      <td>1</td>\n",
       "    </tr>\n",
       "    <tr>\n",
       "      <th>497</th>\n",
       "      <td>Yadagiri, P. 1988. A new sauropod Kotasaurus y...</td>\n",
       "      <td>Spanish</td>\n",
       "      <td>es</td>\n",
       "      <td>28560</td>\n",
       "      <td>0.90</td>\n",
       "      <td>en</td>\n",
       "      <td>0</td>\n",
       "    </tr>\n",
       "    <tr>\n",
       "      <th>498</th>\n",
       "      <td>El Cabildo de San Isidoro recibe al Ayuntamien...</td>\n",
       "      <td>Spanish</td>\n",
       "      <td>es</td>\n",
       "      <td>28579</td>\n",
       "      <td>0.99</td>\n",
       "      <td>es</td>\n",
       "      <td>1</td>\n",
       "    </tr>\n",
       "    <tr>\n",
       "      <th>499</th>\n",
       "      <td>En 1971, grabó Mamy Blue que rompió las listas...</td>\n",
       "      <td>Spanish</td>\n",
       "      <td>es</td>\n",
       "      <td>28590</td>\n",
       "      <td>0.90</td>\n",
       "      <td>es</td>\n",
       "      <td>1</td>\n",
       "    </tr>\n",
       "  </tbody>\n",
       "</table>\n",
       "<p>500 rows × 7 columns</p>\n",
       "</div>"
      ],
      "text/plain": [
       "                                                  text           English  \\\n",
       "0    كانت رحلة كوك - فولسوم - بيترسون الاستكشافية ع...            Arabic   \n",
       "1    大都会区有它自己的当地路边快餐口味，包括瓦达帕夫（蓬松面包劈开一半，填入锅贴）、潘尼普里（油...  Standard Chinese   \n",
       "2    La ciudad de San Cristóbal es sede del Hospita...           Spanish   \n",
       "3    Anton (or Antonius) Maria Schyrleus (also Schy...           English   \n",
       "4    बांग्लादेश के मुख्य न्यायाधीश का पद, बांग्लादे...             Hindi   \n",
       "..                                                 ...               ...   \n",
       "495  Mientras Gaff protege la entrada a la casa de ...           Spanish   \n",
       "496  Lucé-sous-Ballon es una población y comuna fra...           Spanish   \n",
       "497  Yadagiri, P. 1988. A new sauropod Kotasaurus y...           Spanish   \n",
       "498  El Cabildo de San Isidoro recibe al Ayuntamien...           Spanish   \n",
       "499  En 1971, grabó Mamy Blue que rompió las listas...           Spanish   \n",
       "\n",
       "    lang_iso_639-1     id  score detect_lang  good_detection  \n",
       "0               ar     15   1.00          ar               1  \n",
       "1               zh     42   0.99          zh               1  \n",
       "2               es     50   0.83          es               1  \n",
       "3               en     68   0.98          en               1  \n",
       "4               hi    113   1.00          hi               1  \n",
       "..             ...    ...    ...         ...             ...  \n",
       "495             es  28521   0.99          es               1  \n",
       "496             es  28554   0.98          es               1  \n",
       "497             es  28560   0.90          en               0  \n",
       "498             es  28579   0.99          es               1  \n",
       "499             es  28590   0.90          es               1  \n",
       "\n",
       "[500 rows x 7 columns]"
      ]
     },
     "execution_count": 21,
     "metadata": {},
     "output_type": "execute_result"
    }
   ],
   "source": [
    "# Transformation dictionnaire en dataframe\n",
    "sample_test = pd.DataFrame.from_dict(sample_test)\n",
    "# Analyse de l'estimation avec 1 comme resultat positive et 0 négative\n",
    "sample_test[\"good_detection\"] = (sample_test[\"lang_iso_639-1\"] == sample_test[\"detect_lang\"]).astype(int)\n",
    "\n",
    "sample_test"
   ]
  },
  {
   "cell_type": "markdown",
   "metadata": {
    "slideshow": {
     "slide_type": "subslide"
    }
   },
   "source": [
    "## Résultat global "
   ]
  },
  {
   "cell_type": "code",
   "execution_count": 33,
   "metadata": {
    "slideshow": {
     "slide_type": "-"
    }
   },
   "outputs": [
    {
     "data": {
      "text/html": [
       "<div>\n",
       "<style scoped>\n",
       "    .dataframe tbody tr th:only-of-type {\n",
       "        vertical-align: middle;\n",
       "    }\n",
       "\n",
       "    .dataframe tbody tr th {\n",
       "        vertical-align: top;\n",
       "    }\n",
       "\n",
       "    .dataframe thead th {\n",
       "        text-align: right;\n",
       "    }\n",
       "</style>\n",
       "<table border=\"1\" class=\"dataframe\">\n",
       "  <thead>\n",
       "    <tr style=\"text-align: right;\">\n",
       "      <th></th>\n",
       "      <th>good_detection</th>\n",
       "      <th>score_mean</th>\n",
       "      <th>sample_size</th>\n",
       "      <th>success_rate</th>\n",
       "      <th>error_rate</th>\n",
       "    </tr>\n",
       "  </thead>\n",
       "  <tbody>\n",
       "    <tr>\n",
       "      <th>Arabic</th>\n",
       "      <td>100</td>\n",
       "      <td>1.0000</td>\n",
       "      <td>100</td>\n",
       "      <td>100.0</td>\n",
       "      <td>0.0</td>\n",
       "    </tr>\n",
       "    <tr>\n",
       "      <th>English</th>\n",
       "      <td>100</td>\n",
       "      <td>0.9746</td>\n",
       "      <td>100</td>\n",
       "      <td>100.0</td>\n",
       "      <td>0.0</td>\n",
       "    </tr>\n",
       "    <tr>\n",
       "      <th>Hindi</th>\n",
       "      <td>100</td>\n",
       "      <td>0.9985</td>\n",
       "      <td>100</td>\n",
       "      <td>100.0</td>\n",
       "      <td>0.0</td>\n",
       "    </tr>\n",
       "    <tr>\n",
       "      <th>Spanish</th>\n",
       "      <td>98</td>\n",
       "      <td>0.9709</td>\n",
       "      <td>100</td>\n",
       "      <td>98.0</td>\n",
       "      <td>2.0</td>\n",
       "    </tr>\n",
       "    <tr>\n",
       "      <th>Standard Chinese</th>\n",
       "      <td>100</td>\n",
       "      <td>0.9854</td>\n",
       "      <td>100</td>\n",
       "      <td>100.0</td>\n",
       "      <td>0.0</td>\n",
       "    </tr>\n",
       "  </tbody>\n",
       "</table>\n",
       "</div>"
      ],
      "text/plain": [
       "                  good_detection  score_mean  sample_size  success_rate  \\\n",
       "Arabic            100             1.0000      100          100.0          \n",
       "English           100             0.9746      100          100.0          \n",
       "Hindi             100             0.9985      100          100.0          \n",
       "Spanish           98              0.9709      100          98.0           \n",
       "Standard Chinese  100             0.9854      100          100.0          \n",
       "\n",
       "                  error_rate  \n",
       "Arabic            0.0         \n",
       "English           0.0         \n",
       "Hindi             0.0         \n",
       "Spanish           2.0         \n",
       "Standard Chinese  0.0         "
      ]
     },
     "execution_count": 33,
     "metadata": {},
     "output_type": "execute_result"
    }
   ],
   "source": [
    "analyse_good_detection = sample_test.pivot_table(\"good_detection\",index=\"English\",aggfunc=\"sum\")\n",
    "analyse_mean_score = sample_test.pivot_table(\"score\",index=\"English\",aggfunc=\"mean\")\n",
    "\n",
    "analyse = pd.merge(analyse_good_detection,analyse_mean_score,on=\"English\")\n",
    "\n",
    "analyse[\"sample_size\"]=nb_text\n",
    "\n",
    "analyse[\"success_rate\"]=(analyse.good_detection/analyse.sample_size)*100.0\n",
    "analyse[\"error_rate\"] = 100-analyse[\"success_rate\"]\n",
    "\n",
    "analyse= analyse.rename(columns={\"score\":\"score_mean\"})\n",
    "analyse = analyse.rename_axis(None)\n",
    "\n",
    "analyse"
   ]
  },
  {
   "cell_type": "markdown",
   "metadata": {
    "slideshow": {
     "slide_type": "subslide"
    }
   },
   "source": [
    "## Analyse des résultats en echec"
   ]
  },
  {
   "cell_type": "code",
   "execution_count": 23,
   "metadata": {
    "slideshow": {
     "slide_type": "-"
    }
   },
   "outputs": [
    {
     "data": {
      "text/html": [
       "<div>\n",
       "<style scoped>\n",
       "    .dataframe tbody tr th:only-of-type {\n",
       "        vertical-align: middle;\n",
       "    }\n",
       "\n",
       "    .dataframe tbody tr th {\n",
       "        vertical-align: top;\n",
       "    }\n",
       "\n",
       "    .dataframe thead th {\n",
       "        text-align: right;\n",
       "    }\n",
       "</style>\n",
       "<table border=\"1\" class=\"dataframe\">\n",
       "  <thead>\n",
       "    <tr style=\"text-align: right;\">\n",
       "      <th></th>\n",
       "      <th>text</th>\n",
       "      <th>score</th>\n",
       "      <th>lang_iso_639-1</th>\n",
       "      <th>detect_lang</th>\n",
       "    </tr>\n",
       "  </thead>\n",
       "  <tbody>\n",
       "    <tr>\n",
       "      <th>479</th>\n",
       "      <td>Bandyopadhyay, S. &amp; RoyChowdhury, K. 1996. Beginning of the Continental Jurassic in India: A Paleontological Approach. Museum of Northern Arizona Bulletin. The Continental Jurassic. Transactions of the Continental Jurassic Symposium. October 21-23, M. Morales (ed.). Museum of Northern Arizona60, 371-378.</td>\n",
       "      <td>0.79</td>\n",
       "      <td>es</td>\n",
       "      <td>en</td>\n",
       "    </tr>\n",
       "    <tr>\n",
       "      <th>497</th>\n",
       "      <td>Yadagiri, P. 1988. A new sauropod Kotasaurus yamanpalliensis from Lower Jurassic Kota Formation of India. Records of the Geological Survey of India, 11, 102-127.</td>\n",
       "      <td>0.90</td>\n",
       "      <td>es</td>\n",
       "      <td>en</td>\n",
       "    </tr>\n",
       "  </tbody>\n",
       "</table>\n",
       "</div>"
      ],
      "text/plain": [
       "                                                                                                                                                                                                                                                                                                                  text  \\\n",
       "479  Bandyopadhyay, S. & RoyChowdhury, K. 1996. Beginning of the Continental Jurassic in India: A Paleontological Approach. Museum of Northern Arizona Bulletin. The Continental Jurassic. Transactions of the Continental Jurassic Symposium. October 21-23, M. Morales (ed.). Museum of Northern Arizona60, 371-378.   \n",
       "497  Yadagiri, P. 1988. A new sauropod Kotasaurus yamanpalliensis from Lower Jurassic Kota Formation of India. Records of the Geological Survey of India, 11, 102-127.                                                                                                                                                   \n",
       "\n",
       "     score lang_iso_639-1 detect_lang  \n",
       "479  0.79   es             en          \n",
       "497  0.90   es             en          "
      ]
     },
     "execution_count": 23,
     "metadata": {},
     "output_type": "execute_result"
    }
   ],
   "source": [
    "# Pour afficher tout le texte de la ligne\n",
    "pd.options.display.max_rows\n",
    "pd.set_option('display.max_colwidth', 0)\n",
    "# On récupère que les \"mauvaises\" detection\n",
    "sample_test.loc[sample_test.good_detection==0][[\"text\",\"score\",\"lang_iso_639-1\",\"detect_lang\"]]"
   ]
  },
  {
   "cell_type": "markdown",
   "metadata": {
    "slideshow": {
     "slide_type": "-"
    }
   },
   "source": [
    "On remarque que les textes qui on était detectés comme mauvaise identification de la langue sont écrit principalement dans la langue detecté car se sont **des noms de livre ou de personne certainement Anglophone**."
   ]
  },
  {
   "cell_type": "markdown",
   "metadata": {
    "slideshow": {
     "slide_type": "slide"
    }
   },
   "source": [
    "# Représentation graphique des résultats\n",
    "\n",
    "Pour mieux visualiser ces résultats, nous allons les afficher sous forme de graphique.\n",
    "\n",
    "> \"Un bon croquis vaut mieux qu'un long discours.\""
   ]
  },
  {
   "cell_type": "markdown",
   "metadata": {
    "slideshow": {
     "slide_type": "subslide"
    }
   },
   "source": [
    "## Graphique"
   ]
  },
  {
   "cell_type": "code",
   "execution_count": 42,
   "metadata": {
    "slideshow": {
     "slide_type": "skip"
    }
   },
   "outputs": [],
   "source": [
    "%matplotlib inline\n",
    "\n",
    "import matplotlib.pyplot as plt\n",
    "import seaborn as sns\n",
    "\n",
    "def visualisation():\n",
    "    plt.style.use('seaborn-whitegrid')\n",
    "\n",
    "    SIZE_FONT = 15\n",
    "\n",
    "    plt.rc('font', size=SIZE_FONT) # taille de texte par défaut\n",
    "    plt.rc('axes', titlesize=SIZE_FONT) # taille des titres des axes\n",
    "    plt.rc('axes', labelsize=SIZE_FONT) # taille des labels des axes\n",
    "    plt.rc('xtick', labelsize=SIZE_FONT) # taille des ticks des ascisses\n",
    "    plt.rc('ytick', labelsize=SIZE_FONT) # taille des ticks des ordonnées\n",
    "    plt.rc('legend', fontsize=SIZE_FONT) # taille de la légende\n",
    "\n",
    "    analyse[[\"success_rate\",\"error_rate\"]].plot.bar(stacked=True,\n",
    "                                                    color={\"success_rate\":\"#007DE2\",\"error_rate\":\"#FF5100\"},\n",
    "                                                    figsize=(12,7))\n",
    "\n",
    "    plt.title(\"Analyse performance Analyse texte Azure\")\n",
    "    plt.ylabel(\"Pourcentage de succès\")\n",
    "    plt.xlabel(\"Langue\")\n",
    "\n",
    "    plt.legend(loc=\"lower right\",bbox_to_anchor=(1, 1))\n",
    "    plt.show()"
   ]
  },
  {
   "cell_type": "code",
   "execution_count": 43,
   "metadata": {
    "slideshow": {
     "slide_type": "-"
    }
   },
   "outputs": [
    {
     "data": {
      "image/png": "[encoded data removed]",
      "text/plain": [
       "<Figure size 864x504 with 1 Axes>"
      ]
     },
     "metadata": {},
     "output_type": "display_data"
    }
   ],
   "source": [
    "#Affichage du graphique\n",
    "visualisation()"
   ]
  },
  {
   "cell_type": "markdown",
   "metadata": {
    "slideshow": {
     "slide_type": "slide"
    }
   },
   "source": [
    "# Conclusion \n",
    "\n",
    "\n",
    "Les résultats du service Cognitif Azure **Analyse de texte** sont très positives.<br>\n",
    "<br>\n",
    "Le taux de réussite est de 100% si on ommet les 2 résultats sur 500 qui ont était induit par des noms propre d'auteur ou de titre de livre certainement Anglophone.<br>\n"
   ]
  }
 ],
 "metadata": {
  "celltoolbar": "Diaporama",
  "kernelspec": {
   "display_name": "Python 3",
   "language": "python",
   "name": "python3"
  },
  "language_info": {
   "codemirror_mode": {
    "name": "ipython",
    "version": 3
   },
   "file_extension": ".py",
   "mimetype": "text/x-python",
   "name": "python",
   "nbconvert_exporter": "python",
   "pygments_lexer": "ipython3",
   "version": "3.8.5"
  }
 },
 "nbformat": 4,
 "nbformat_minor": 4
}
